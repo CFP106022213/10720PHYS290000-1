{
 "cells": [
  {
   "cell_type": "code",
   "execution_count": null,
   "metadata": {},
   "outputs": [],
   "source": [
    "import numpy as np\n",
    "import matplotlib.pyplot as plt\n",
    "\n",
    "m = int(input('initial money'))\n",
    "n = int(input('how many student'))\n",
    "k = int(input('round'))\n",
    "\n",
    "dm = 1  #賭金\n",
    "no_money_mode = int(input('可負債?(按1可以)'))\n",
    "if no_money_mode == 1:\n",
    "    print('可負債')\n",
    "money_array = []\n",
    "\n",
    "for i in range(0,n):\n",
    "    snum = n\n",
    "    for j in range(0,len(money_array)):\n",
    "        if money_array[j] <= 0:\n",
    "            snum -= 1   #people does not bankrupt\n",
    "    \n",
    "    result = np.random.randint(0,3)  #猜拳\n",
    "    \n",
    "    if no_money_mode == 1:\n",
    "        people1_in_game = np.random.randint(0,n)  #choose first person\n",
    "        people2_in_game = np.random.randint(0,n)  #choose second person\n",
    "        \n",
    "        while people2_in_game == people1_in_game:\n",
    "            people2_in_game = np.random.randint(0,n)  #again choose second person\n",
    "    else:\n",
    "        money_array = sorted(money_array,reverse = True)  #大到小\n",
    "        \n",
    "        people1_in_game = np.random.randint(0,snum)  #choose first person\n",
    "        people2_in_game = np.random.randint(0,snum)  #choose second person\n",
    "        \n",
    "        while people2_in_game == people1_in_game and snum > 1:\n",
    "            people2_in_game = np.random.randint(0,snum)  #again choose second person\n",
    "            \n",
    "        if snum == 1:\n",
    "            print('over')\n",
    "            break\n",
    "    \n",
    "    if result == 1:\n",
    "        money_win = dm + money_array[people1_in_game]\n",
    "        money_lose = money_array[people2_in_game] - dm\n",
    "        \n",
    "        money_array = [people1_in_game] = money_win\n",
    "        money_array = [people2_in_game] = money_lose\n",
    "        \n",
    "    elif result == 2:\n",
    "        money_win = dm + money_array[people2_in_game]\n",
    "        money_lose = money_array[people1_in_game] - dm\n",
    "        money_array = [people2_in_game] = money_win\n",
    "        money_array = [people1_in_game] = money_lose\n",
    "        \n",
    "money_array = sorted(money_array,reverse = True)\n",
    "print(money_array)\n",
    "plt.hist(money_array)\n",
    "plt.show()"
   ]
  },
  {
   "cell_type": "code",
   "execution_count": null,
   "metadata": {},
   "outputs": [],
   "source": []
  },
  {
   "cell_type": "code",
   "execution_count": null,
   "metadata": {},
   "outputs": [],
   "source": []
  }
 ],
 "metadata": {
  "kernelspec": {
   "display_name": "Python 3",
   "language": "python",
   "name": "python3"
  },
  "language_info": {
   "codemirror_mode": {
    "name": "ipython",
    "version": 3
   },
   "file_extension": ".py",
   "mimetype": "text/x-python",
   "name": "python",
   "nbconvert_exporter": "python",
   "pygments_lexer": "ipython3",
   "version": "3.6.3"
  }
 },
 "nbformat": 4,
 "nbformat_minor": 2
}
